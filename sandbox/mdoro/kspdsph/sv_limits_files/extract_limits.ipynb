{
 "cells": [
  {
   "cell_type": "code",
   "execution_count": 1,
   "metadata": {},
   "outputs": [],
   "source": [
    "import pandas as pd\n",
    "import numpy as np\n",
    "from astropy.table import Table\n",
    "import glob\n",
    "import os\n",
    "\n",
    "# Find all CSV files in the current directory\n",
    "csv_files = glob.glob('./*_Decay.csv')\n",
    "\n",
    "for csv_file in csv_files:\n",
    "    # Read the CSV file\n",
    "    df = pd.read_csv(csv_file)\n",
    "    \n",
    "    # Get unique combinations of profile and channel\n",
    "    profiles = df['profile'].unique()\n",
    "    channels = df['ch'].unique()\n",
    "    \n",
    "    # Process each combination\n",
    "    for profile in profiles:\n",
    "        for channel in channels:\n",
    "            # Filter for current profile and channel\n",
    "            mask = (df['profile'] == profile) & (df['ch'] == channel)\n",
    "            df_filtered = df[mask]\n",
    "            \n",
    "            # Skip if no data for this combination\n",
    "            if df_filtered.empty:\n",
    "                continue\n",
    "            \n",
    "            # Create a new dataframe with the desired quantiles\n",
    "            result = pd.DataFrame()\n",
    "            result['mass'] = df_filtered[df_filtered['quantile'] == 0.5]['mass'].values\n",
    "            result['tau_50'] = df_filtered[df_filtered['quantile'] == 0.5]['tau'].values\n",
    "            result['tau_32'] = df_filtered[df_filtered['quantile'] == 0.32]['tau'].values\n",
    "            result['tau_68'] = df_filtered[df_filtered['quantile'] == 0.68]['tau'].values\n",
    "            result['tau_05'] = df_filtered[df_filtered['quantile'] == 0.05]['tau'].values\n",
    "            result['tau_95'] = df_filtered[df_filtered['quantile'] == 0.95]['tau'].values\n",
    "            \n",
    "            # Convert to astropy table\n",
    "            table = Table.from_pandas(result)\n",
    "\n",
    "             # Set format for all tau columns to show 4 significant figures\n",
    "            for col in table.colnames:\n",
    "                if col.startswith('tau'):\n",
    "                    table[col].format = '.4g'\n",
    "            \n",
    "            # Create output filename based on input filename\n",
    "            # Example: 'CBe_Einasto_Decay.csv' -> 'svlim_CBe_Einasto_b_decay.ecsv'\n",
    "            base_name = os.path.basename(csv_file)\n",
    "            source_name = base_name.split('_')[0]  # Gets 'CBe' from 'CBe_Einasto_Decay.csv'\n",
    "            output_name = f'svlim_{source_name}_{profile}_{channel}_decay.ecsv'\n",
    "            \n",
    "            # Save as ECSV\n",
    "            table.write(output_name, format='ascii.ecsv', overwrite=True)"
   ]
  },
  {
   "cell_type": "code",
   "execution_count": null,
   "metadata": {},
   "outputs": [],
   "source": []
  }
 ],
 "metadata": {
  "kernelspec": {
   "display_name": "gammapy-1.2",
   "language": "python",
   "name": "python3"
  },
  "language_info": {
   "codemirror_mode": {
    "name": "ipython",
    "version": 3
   },
   "file_extension": ".py",
   "mimetype": "text/x-python",
   "name": "python",
   "nbconvert_exporter": "python",
   "pygments_lexer": "ipython3",
   "version": "3.10.13"
  }
 },
 "nbformat": 4,
 "nbformat_minor": 2
}
