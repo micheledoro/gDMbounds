{
 "cells": [
  {
   "cell_type": "code",
   "execution_count": 4,
   "metadata": {},
   "outputs": [
    {
     "name": "stdout",
     "output_type": "stream",
     "text": [
      "Empty DataFrame\n",
      "Columns: [mass, sigma_v]\n",
      "Index: []\n"
     ]
    }
   ],
   "source": [
    "import pandas as pd\n",
    "import numpy as np\n",
    "\n",
    "# Read the CSV file\n",
    "df = pd.read_csv('svlim_Scl_Einasto_b_100.csv')\n",
    "\n",
    "# Filter the dataframe for 'Einasto' profile and 'b' channel\n",
    "filtered_df = df[(df['profile'] == 'Einasto') & (df['ch'] == 'tau')]\n",
    "\n",
    "# Group by mass and compute median sigma_v\n",
    "result = filtered_df.groupby('mass')['sigma_v'].median().reset_index()\n",
    "\n",
    "# Divide the median sigma_v by 500\n",
    "result['sigma_v'] = result['sigma_v'] / 500 / np.sqrt(3)\n",
    "\n",
    "# Sort the result by mass\n",
    "result = result.sort_values('mass')\n",
    "\n",
    "# Print the result\n",
    "print(result.to_string(index=False))\n",
    "\n",
    "# Optionally, save the result to a new CSV file\n",
    "result.to_csv('median_sigma_v_by_mass_divided.csv', index=False)"
   ]
  },
  {
   "cell_type": "code",
   "execution_count": null,
   "metadata": {},
   "outputs": [],
   "source": []
  }
 ],
 "metadata": {
  "kernelspec": {
   "display_name": "gammapy-1.2",
   "language": "python",
   "name": "python3"
  },
  "language_info": {
   "codemirror_mode": {
    "name": "ipython",
    "version": 3
   },
   "file_extension": ".py",
   "mimetype": "text/x-python",
   "name": "python",
   "nbconvert_exporter": "python",
   "pygments_lexer": "ipython3",
   "version": "3.10.13"
  }
 },
 "nbformat": 4,
 "nbformat_minor": 2
}
