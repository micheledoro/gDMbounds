{
 "cells": [
  {
   "cell_type": "code",
   "execution_count": 2,
   "metadata": {},
   "outputs": [
    {
     "name": "stdout",
     "output_type": "stream",
     "text": [
      "File not found: /Users/mdoro/Soft/gDMbounds/dmbounds/bounds/hess/hess_sagittarius_dsp_annihilation_bb.ecsv\n",
      "File not found: /Users/mdoro/Soft/gDMbounds/dmbounds/bounds/hess/hess_sagittarius_dsp_decay_bb.ecsv\n",
      "File not found: /Users/mdoro/Soft/gDMbounds/dmbounds/bounds/cta/cta_perseuscluster_annihilation_tautau.ecsv\n",
      "File not found: /Users/mdoro/Soft/gDMbounds/dmbounds/bounds/cta/cta_perseuscluster_decay_bb.ecsv\n"
     ]
    }
   ],
   "source": [
    "# Import necessary libraries\n",
    "import matplotlib.pyplot as plt\n",
    "import pandas as pd\n",
    "import sys\n",
    "import os\n",
    "\n",
    "# Add the path of the dmbounds folder\n",
    "sys.path.append(os.path.abspath(os.path.join('/Users/mdoro/Soft/gDMbounds')))\n",
    "\n",
    "\n",
    "# Assuming the plotter.py file is in the same directory or in the Python path\n",
    "from dmbounds.plotter import draw_limits  # Adjust the import based on your project structure\n",
    "\n",
    "# Example calls to draw_limits\n",
    "# Call the function for annihilation\n",
    "draw_limits('hess', 'sagittarius_dsp', 'annihilation', 'bb')\n",
    "\n",
    "# Call the function for decay\n",
    "draw_limits('hess', 'sagittarius_dsp', 'decay', 'bb')\n",
    "\n",
    "# You can call it multiple times with different parameters\n",
    "draw_limits('cta', 'perseuscluster', 'annihilation', 'tautau')\n",
    "draw_limits('cta', 'perseuscluster', 'decay', 'bb')"
   ]
  },
  {
   "cell_type": "code",
   "execution_count": null,
   "metadata": {},
   "outputs": [],
   "source": []
  }
 ],
 "metadata": {
  "kernelspec": {
   "display_name": "gammapy-1.2",
   "language": "python",
   "name": "python3"
  },
  "language_info": {
   "codemirror_mode": {
    "name": "ipython",
    "version": 3
   },
   "file_extension": ".py",
   "mimetype": "text/x-python",
   "name": "python",
   "nbconvert_exporter": "python",
   "pygments_lexer": "ipython3",
   "version": "3.10.13"
  }
 },
 "nbformat": 4,
 "nbformat_minor": 2
}
